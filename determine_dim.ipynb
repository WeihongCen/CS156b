{
 "cells": [
  {
   "cell_type": "code",
   "execution_count": 2,
   "metadata": {},
   "outputs": [],
   "source": [
    "import numpy as np\n",
    "import pandas as pd\n",
    "from PIL import Image\n",
    "import os"
   ]
  },
  {
   "cell_type": "code",
   "execution_count": 3,
   "metadata": {},
   "outputs": [],
   "source": [
    "train_csv_path = 'train.csv'\n",
    "train_data_frontal = []\n",
    "\n",
    "training_data = pd.read_csv(train_csv_path, sep=',')\n",
    "training_data = training_data[training_data['Frontal/Lateral'] == 'Frontal']\n",
    "training_data = training_data[training_data['AP/PA'] == 'AP']\n",
    "cols_of_interest = ['Unnamed: 0','Path','No Finding',\n",
    "                    'Enlarged Cardiomediastinum','Cardiomegaly','Lung Opacity',\n",
    "                    'Pneumonia','Pleural Effusion','Pleural Other','Fracture',\n",
    "                    'Support Devices']\n",
    "training_data = training_data[cols_of_interest].fillna(0)\n",
    "\n",
    "for index, row in training_data.iterrows():\n",
    "    if os.path.exists(row['Path']):\n",
    "        image = Image.open(row['Path'])\n",
    "        image_data = np.asarray(image)\n",
    "        # train_data_frontal.append(np.array(image_data.shape))\n",
    "        train_data_frontal.append(image_data.shape[1] / image_data.shape[0])\n",
    "\n",
    "train_data_frontal = np.array(train_data_frontal)"
   ]
  },
  {
   "cell_type": "code",
   "execution_count": 10,
   "metadata": {},
   "outputs": [
    {
     "data": {
      "text/plain": [
       "1.2189655172413794"
      ]
     },
     "execution_count": 10,
     "metadata": {},
     "output_type": "execute_result"
    }
   ],
   "source": [
    "unique_elements, counts = np.unique(train_data_frontal, axis=0, return_counts=True)\n",
    "unique_elements[np.argmax(counts)]"
   ]
  }
 ],
 "metadata": {
  "kernelspec": {
   "display_name": "Python 3",
   "language": "python",
   "name": "python3"
  },
  "language_info": {
   "codemirror_mode": {
    "name": "ipython",
    "version": 3
   },
   "file_extension": ".py",
   "mimetype": "text/x-python",
   "name": "python",
   "nbconvert_exporter": "python",
   "pygments_lexer": "ipython3",
   "version": "3.12.2"
  }
 },
 "nbformat": 4,
 "nbformat_minor": 2
}
